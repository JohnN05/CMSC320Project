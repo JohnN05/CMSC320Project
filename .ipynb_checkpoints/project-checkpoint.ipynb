{
 "cells": [
  {
   "cell_type": "code",
   "execution_count": null,
   "id": "9184b45e-b8ba-4175-98a5-b70e41326958",
   "metadata": {},
   "outputs": [],
   "source": [
    "import pandas as pd"
   ]
  },
  {
   "cell_type": "markdown",
   "id": "14fded91-225c-43ef-913c-5dd8b6c59263",
   "metadata": {},
   "source": [
    "Loading and filtering the border crossing database"
   ]
  },
  {
   "cell_type": "code",
   "execution_count": 7,
   "id": "b9a85c91-1e7c-454d-be26-25ef3f7cfdf8",
   "metadata": {},
   "outputs": [
    {
     "data": {
      "text/html": [
       "<div>\n",
       "<style scoped>\n",
       "    .dataframe tbody tr th:only-of-type {\n",
       "        vertical-align: middle;\n",
       "    }\n",
       "\n",
       "    .dataframe tbody tr th {\n",
       "        vertical-align: top;\n",
       "    }\n",
       "\n",
       "    .dataframe thead th {\n",
       "        text-align: right;\n",
       "    }\n",
       "</style>\n",
       "<table border=\"1\" class=\"dataframe\">\n",
       "  <thead>\n",
       "    <tr style=\"text-align: right;\">\n",
       "      <th></th>\n",
       "      <th>Fiscal Year</th>\n",
       "      <th>Month Grouping</th>\n",
       "      <th>Month (abbv)</th>\n",
       "      <th>Component</th>\n",
       "      <th>Land Border Region</th>\n",
       "      <th>Area of Responsibility</th>\n",
       "      <th>AOR (Abbv)</th>\n",
       "      <th>Demographic</th>\n",
       "      <th>Citizenship</th>\n",
       "      <th>Title of Authority</th>\n",
       "      <th>Encounter Type</th>\n",
       "      <th>Encounter Count</th>\n",
       "    </tr>\n",
       "  </thead>\n",
       "  <tbody>\n",
       "    <tr>\n",
       "      <th>0</th>\n",
       "      <td>2022</td>\n",
       "      <td>FYTD</td>\n",
       "      <td>DEC</td>\n",
       "      <td>Office of Field Operations</td>\n",
       "      <td>Northern Land Border</td>\n",
       "      <td>Boston Field Office</td>\n",
       "      <td>Boston</td>\n",
       "      <td>Accompanied Minors</td>\n",
       "      <td>CANADA</td>\n",
       "      <td>Title 42</td>\n",
       "      <td>Expulsions</td>\n",
       "      <td>1</td>\n",
       "    </tr>\n",
       "    <tr>\n",
       "      <th>1</th>\n",
       "      <td>2022</td>\n",
       "      <td>FYTD</td>\n",
       "      <td>DEC</td>\n",
       "      <td>Office of Field Operations</td>\n",
       "      <td>Northern Land Border</td>\n",
       "      <td>Boston Field Office</td>\n",
       "      <td>Boston</td>\n",
       "      <td>FMUA</td>\n",
       "      <td>BRAZIL</td>\n",
       "      <td>Title 8</td>\n",
       "      <td>Inadmissibles</td>\n",
       "      <td>17</td>\n",
       "    </tr>\n",
       "    <tr>\n",
       "      <th>2</th>\n",
       "      <td>2022</td>\n",
       "      <td>FYTD</td>\n",
       "      <td>DEC</td>\n",
       "      <td>Office of Field Operations</td>\n",
       "      <td>Northern Land Border</td>\n",
       "      <td>Boston Field Office</td>\n",
       "      <td>Boston</td>\n",
       "      <td>FMUA</td>\n",
       "      <td>CANADA</td>\n",
       "      <td>Title 8</td>\n",
       "      <td>Inadmissibles</td>\n",
       "      <td>26</td>\n",
       "    </tr>\n",
       "    <tr>\n",
       "      <th>3</th>\n",
       "      <td>2022</td>\n",
       "      <td>FYTD</td>\n",
       "      <td>DEC</td>\n",
       "      <td>Office of Field Operations</td>\n",
       "      <td>Northern Land Border</td>\n",
       "      <td>Boston Field Office</td>\n",
       "      <td>Boston</td>\n",
       "      <td>FMUA</td>\n",
       "      <td>CHINA, PEOPLES REPUBLIC OF</td>\n",
       "      <td>Title 8</td>\n",
       "      <td>Inadmissibles</td>\n",
       "      <td>2</td>\n",
       "    </tr>\n",
       "    <tr>\n",
       "      <th>4</th>\n",
       "      <td>2022</td>\n",
       "      <td>FYTD</td>\n",
       "      <td>DEC</td>\n",
       "      <td>Office of Field Operations</td>\n",
       "      <td>Northern Land Border</td>\n",
       "      <td>Boston Field Office</td>\n",
       "      <td>Boston</td>\n",
       "      <td>FMUA</td>\n",
       "      <td>COLOMBIA</td>\n",
       "      <td>Title 8</td>\n",
       "      <td>Inadmissibles</td>\n",
       "      <td>16</td>\n",
       "    </tr>\n",
       "  </tbody>\n",
       "</table>\n",
       "</div>"
      ],
      "text/plain": [
       "  Fiscal Year Month Grouping Month (abbv)                   Component  \\\n",
       "0        2022           FYTD          DEC  Office of Field Operations   \n",
       "1        2022           FYTD          DEC  Office of Field Operations   \n",
       "2        2022           FYTD          DEC  Office of Field Operations   \n",
       "3        2022           FYTD          DEC  Office of Field Operations   \n",
       "4        2022           FYTD          DEC  Office of Field Operations   \n",
       "\n",
       "     Land Border Region Area of Responsibility AOR (Abbv)         Demographic  \\\n",
       "0  Northern Land Border    Boston Field Office     Boston  Accompanied Minors   \n",
       "1  Northern Land Border    Boston Field Office     Boston                FMUA   \n",
       "2  Northern Land Border    Boston Field Office     Boston                FMUA   \n",
       "3  Northern Land Border    Boston Field Office     Boston                FMUA   \n",
       "4  Northern Land Border    Boston Field Office     Boston                FMUA   \n",
       "\n",
       "                  Citizenship Title of Authority Encounter Type  \\\n",
       "0                      CANADA           Title 42     Expulsions   \n",
       "1                      BRAZIL            Title 8  Inadmissibles   \n",
       "2                      CANADA            Title 8  Inadmissibles   \n",
       "3  CHINA, PEOPLES REPUBLIC OF            Title 8  Inadmissibles   \n",
       "4                    COLOMBIA            Title 8  Inadmissibles   \n",
       "\n",
       "   Encounter Count  \n",
       "0                1  \n",
       "1               17  \n",
       "2               26  \n",
       "3                2  \n",
       "4               16  "
      ]
     },
     "execution_count": 7,
     "metadata": {},
     "output_type": "execute_result"
    }
   ],
   "source": [
    "border_crossing_df = pd.read_csv(\"nationwide-encounters-fy22-fy25-dec-aor.csv\")\n",
    "border_crossing_df.head()"
   ]
  },
  {
   "cell_type": "markdown",
   "id": "4417a509-26eb-4424-8fdf-6cef705643be",
   "metadata": {},
   "source": [
    "Determining the different regions reported for border crossing"
   ]
  },
  {
   "cell_type": "code",
   "execution_count": 10,
   "id": "03de507e-00da-4a41-89ad-fb2f33e54aa5",
   "metadata": {},
   "outputs": [
    {
     "data": {
      "text/plain": [
       "Land Border Region\n",
       "Southwest Land Border    23184\n",
       "Other                    17253\n",
       "Northern Land Border      9373\n",
       "Name: count, dtype: int64"
      ]
     },
     "execution_count": 10,
     "metadata": {},
     "output_type": "execute_result"
    }
   ],
   "source": [
    "border_crossing_df['Land Border Region'].value_counts()"
   ]
  },
  {
   "cell_type": "markdown",
   "id": "71a245dc-0e9f-4f6a-9cf2-280e6c268a40",
   "metadata": {},
   "source": [
    "Since we're focusing on the relationship between Mexican crime statistics and border crossings, we will be focusing on encounters at the Southwest Land Border."
   ]
  },
  {
   "cell_type": "code",
   "execution_count": 12,
   "id": "28e3f672-4acc-446e-b772-45f609da3585",
   "metadata": {},
   "outputs": [
    {
     "data": {
      "text/plain": [
       "Citizenship\n",
       "OTHER                         4254\n",
       "MEXICO                        4111\n",
       "GUATEMALA                     2921\n",
       "VENEZUELA                     2846\n",
       "COLOMBIA                      2818\n",
       "HONDURAS                      2811\n",
       "EL SALVADOR                   2542\n",
       "CUBA                          2387\n",
       "NICARAGUA                     2382\n",
       "ECUADOR                       2259\n",
       "INDIA                         2206\n",
       "BRAZIL                        2173\n",
       "UKRAINE                       2136\n",
       "PERU                          2073\n",
       "HAITI                         2018\n",
       "CHINA, PEOPLES REPUBLIC OF    1988\n",
       "RUSSIA                        1744\n",
       "CANADA                        1726\n",
       "ROMANIA                       1392\n",
       "PHILIPPINES                   1243\n",
       "TURKEY                        1210\n",
       "MYANMAR (BURMA)                570\n",
       "Name: count, dtype: int64"
      ]
     },
     "execution_count": 12,
     "metadata": {},
     "output_type": "execute_result"
    }
   ],
   "source": [
    "border_crossing_df['Citizenship'].value_counts()"
   ]
  },
  {
   "cell_type": "code",
   "execution_count": null,
   "id": "09e1e318-34d1-4ab2-8f55-64e162f23f09",
   "metadata": {},
   "outputs": [],
   "source": []
  }
 ],
 "metadata": {
  "kernelspec": {
   "display_name": "Python 3 (ipykernel)",
   "language": "python",
   "name": "python3"
  },
  "language_info": {
   "codemirror_mode": {
    "name": "ipython",
    "version": 3
   },
   "file_extension": ".py",
   "mimetype": "text/x-python",
   "name": "python",
   "nbconvert_exporter": "python",
   "pygments_lexer": "ipython3",
   "version": "3.12.6"
  }
 },
 "nbformat": 4,
 "nbformat_minor": 5
}
